{
 "cells": [
  {
   "cell_type": "markdown",
   "metadata": {},
   "source": [
    "# City street network orientations\n",
    "\n",
    "Compare the spatial orientations of city street networks with OSMnx.\n",
    "\n",
    "  - [Overview of OSMnx](http://geoffboeing.com/2016/11/osmnx-python-street-networks/)\n",
    "  - [GitHub repo](https://github.com/gboeing/osmnx)\n",
    "  - [Examples, demos, tutorials](https://github.com/gboeing/osmnx-examples)\n",
    "  - [Documentation](https://osmnx.readthedocs.io/en/stable/)\n",
    "  - [Journal article/citation](http://geoffboeing.com/publications/osmnx-complex-street-networks/)"
   ]
  },
  {
   "cell_type": "code",
   "execution_count": 1,
   "metadata": {},
   "outputs": [
    {
     "data": {
      "text/plain": [
       "'0.10'"
      ]
     },
     "execution_count": 1,
     "metadata": {},
     "output_type": "execute_result"
    }
   ],
   "source": [
    "import matplotlib.pyplot as plt\n",
    "import numpy as np\n",
    "import osmnx as ox\n",
    "import pandas as pd\n",
    "\n",
    "ox.config(log_console=True, use_cache=True)\n",
    "weight_by_length = False\n",
    "\n",
    "ox.__version__"
   ]
  },
  {
   "cell_type": "code",
   "execution_count": 2,
   "metadata": {},
   "outputs": [],
   "source": [
    "# define the study sites as label : query\n",
    "# the full list takes ~30 minutes\n",
    "# # places = {'Atlanta'       : 'Atlanta, GA, USA',\n",
    "#           'Boston'        : 'Boston, MA, USA',\n",
    "#           'Buffalo'       : 'Buffalo, NY, USA',\n",
    "#           'Charlotte'     : 'Charlotte, NC, USA',\n",
    "#           'Chicago'       : 'Chicago, IL, USA',\n",
    "#           'Cleveland'     : 'Cleveland, OH, USA',\n",
    "#           'Dallas'        : 'Dallas, TX, USA',\n",
    "#           'Houston'       : 'Houston, TX, USA',\n",
    "#           'Denver'        : 'Denver, CO, USA',\n",
    "#           'Detroit'       : 'Detroit, MI, USA',\n",
    "#           'Las Vegas'     : 'Las Vegas, NV, USA',\n",
    "#           'Los Angeles'   : {'city':'Los Angeles', 'state':'CA', 'country':'USA'},\n",
    "#           'Manhattan'     : 'Manhattan, NYC, NY, USA',\n",
    "#           'Miami'         : 'Miami, FL, USA',\n",
    "#           'Minneapolis'   : 'Minneapolis, MN, USA',\n",
    "#           'Orlando'       : 'Orlando, FL, USA',\n",
    "#           'Philadelphia'  : 'Philadelphia, PA, USA',\n",
    "#           'Phoenix'       : 'Phoenix, AZ, USA',\n",
    "#           'Portland'      : 'Portland, OR, USA',\n",
    "#           'Sacramento'    : 'Sacramento, CA, USA',\n",
    "#           'San Francisco' : {'city':'San Francisco', 'state':'CA', 'country':'USA'},\n",
    "#           'Seattle'       : 'Seattle, WA, USA',\n",
    "#           'St Louis'      : 'St. Louis, MO, USA',\n",
    "#           'Tampa'         : 'Tampa, FL, USA',\n",
    "#           'Washington'    : 'Washington, DC, USA'}\n",
    "\n",
    "# reduced list. Runtime ~5 mins. \n",
    "places = {'Boston'        : 'Boston, MA, USA',\n",
    "          'Charlotte'     : 'Charlotte, NC, USA',\n",
    "          'Detroit'       : 'Detroit, MI, USA',\n",
    "          'Manhattan'     : 'Manhattan, NYC, NY, USA',\n",
    "          'Sacramento'    : 'Sacramento, CA, USA',\n",
    "          'St Louis'      : 'St. Louis, MO, USA'}"
   ]
  },
  {
   "cell_type": "code",
   "execution_count": 3,
   "metadata": {},
   "outputs": [
    {
     "data": {
      "text/html": [
       "<div>\n",
       "<style scoped>\n",
       "    .dataframe tbody tr th:only-of-type {\n",
       "        vertical-align: middle;\n",
       "    }\n",
       "\n",
       "    .dataframe tbody tr th {\n",
       "        vertical-align: top;\n",
       "    }\n",
       "\n",
       "    .dataframe thead th {\n",
       "        text-align: right;\n",
       "    }\n",
       "</style>\n",
       "<table border=\"1\" class=\"dataframe\">\n",
       "  <thead>\n",
       "    <tr style=\"text-align: right;\">\n",
       "      <th></th>\n",
       "      <th>bbox_east</th>\n",
       "      <th>bbox_north</th>\n",
       "      <th>bbox_south</th>\n",
       "      <th>bbox_west</th>\n",
       "      <th>geometry</th>\n",
       "      <th>place_name</th>\n",
       "    </tr>\n",
       "  </thead>\n",
       "  <tbody>\n",
       "    <tr>\n",
       "      <th>0</th>\n",
       "      <td>-70.804488</td>\n",
       "      <td>42.396977</td>\n",
       "      <td>42.227911</td>\n",
       "      <td>-71.191260</td>\n",
       "      <td>POLYGON ((-71.19126 42.2828375, -71.1910708000...</td>\n",
       "      <td>Boston, Suffolk County, Massachusetts, USA</td>\n",
       "    </tr>\n",
       "    <tr>\n",
       "      <th>1</th>\n",
       "      <td>-80.670104</td>\n",
       "      <td>35.393133</td>\n",
       "      <td>35.013174</td>\n",
       "      <td>-81.009554</td>\n",
       "      <td>POLYGON ((-81.00955399999999 35.151438, -81.00...</td>\n",
       "      <td>Charlotte, Mecklenburg County, North Carolina,...</td>\n",
       "    </tr>\n",
       "    <tr>\n",
       "      <th>2</th>\n",
       "      <td>-82.910439</td>\n",
       "      <td>42.450243</td>\n",
       "      <td>42.255192</td>\n",
       "      <td>-83.287959</td>\n",
       "      <td>POLYGON ((-83.287959 42.44268, -83.287852 42.4...</td>\n",
       "      <td>Detroit, Wayne County, Michigan, USA</td>\n",
       "    </tr>\n",
       "    <tr>\n",
       "      <th>3</th>\n",
       "      <td>-73.910187</td>\n",
       "      <td>40.877796</td>\n",
       "      <td>40.699682</td>\n",
       "      <td>-74.019442</td>\n",
       "      <td>POLYGON ((-74.01944159999999 40.7060712, -74.0...</td>\n",
       "      <td>Manhattan, New York County, New York City, New...</td>\n",
       "    </tr>\n",
       "    <tr>\n",
       "      <th>4</th>\n",
       "      <td>-121.362740</td>\n",
       "      <td>38.685506</td>\n",
       "      <td>38.437574</td>\n",
       "      <td>-121.560120</td>\n",
       "      <td>POLYGON ((-121.56012 38.656339, -121.559298 38...</td>\n",
       "      <td>Sacramento, Sacramento County, California, USA</td>\n",
       "    </tr>\n",
       "    <tr>\n",
       "      <th>5</th>\n",
       "      <td>-90.166292</td>\n",
       "      <td>38.774340</td>\n",
       "      <td>38.532322</td>\n",
       "      <td>-90.320652</td>\n",
       "      <td>POLYGON ((-90.32065249999999 38.594204, -90.31...</td>\n",
       "      <td>St. Louis, City of St. Louis, Missouri, USA</td>\n",
       "    </tr>\n",
       "  </tbody>\n",
       "</table>\n",
       "</div>"
      ],
      "text/plain": [
       "    bbox_east  bbox_north  bbox_south   bbox_west  \\\n",
       "0  -70.804488   42.396977   42.227911  -71.191260   \n",
       "1  -80.670104   35.393133   35.013174  -81.009554   \n",
       "2  -82.910439   42.450243   42.255192  -83.287959   \n",
       "3  -73.910187   40.877796   40.699682  -74.019442   \n",
       "4 -121.362740   38.685506   38.437574 -121.560120   \n",
       "5  -90.166292   38.774340   38.532322  -90.320652   \n",
       "\n",
       "                                            geometry  \\\n",
       "0  POLYGON ((-71.19126 42.2828375, -71.1910708000...   \n",
       "1  POLYGON ((-81.00955399999999 35.151438, -81.00...   \n",
       "2  POLYGON ((-83.287959 42.44268, -83.287852 42.4...   \n",
       "3  POLYGON ((-74.01944159999999 40.7060712, -74.0...   \n",
       "4  POLYGON ((-121.56012 38.656339, -121.559298 38...   \n",
       "5  POLYGON ((-90.32065249999999 38.594204, -90.31...   \n",
       "\n",
       "                                          place_name  \n",
       "0         Boston, Suffolk County, Massachusetts, USA  \n",
       "1  Charlotte, Mecklenburg County, North Carolina,...  \n",
       "2               Detroit, Wayne County, Michigan, USA  \n",
       "3  Manhattan, New York County, New York City, New...  \n",
       "4     Sacramento, Sacramento County, California, USA  \n",
       "5        St. Louis, City of St. Louis, Missouri, USA  "
      ]
     },
     "execution_count": 3,
     "metadata": {},
     "output_type": "execute_result"
    }
   ],
   "source": [
    "# verify OSMnx geocodes each query to what you expect\n",
    "gdf = ox.gdf_from_places(places.values())\n",
    "gdf"
   ]
  },
  {
   "cell_type": "markdown",
   "metadata": {},
   "source": [
    "## Get the street networks and their edge bearings"
   ]
  },
  {
   "cell_type": "code",
   "execution_count": 4,
   "metadata": {},
   "outputs": [],
   "source": [
    "def reverse_bearing(x):\n",
    "    return x + 180 if x < 180 else x - 180"
   ]
  },
  {
   "cell_type": "code",
   "execution_count": 5,
   "metadata": {},
   "outputs": [
    {
     "name": "stdout",
     "output_type": "stream",
     "text": [
      "Boston :  0:00:29.102260 elapsed\n",
      "Charlotte :  0:01:58.232247 elapsed\n",
      "Detroit :  0:02:45.135833 elapsed\n",
      "Manhattan :  0:02:54.344558 elapsed\n",
      "Sacramento :  0:03:29.973197 elapsed\n",
      "St Louis :  0:03:48.838284 elapsed\n",
      "total time:  0:03:48.839283\n"
     ]
    }
   ],
   "source": [
    "from datetime import datetime\n",
    "start=datetime.now()\n",
    "\n",
    "bearings = {}\n",
    "for place in sorted(places.keys()):\n",
    "    \n",
    "    # get the graph\n",
    "    query = places[place]\n",
    "    G = ox.graph_from_place(query, network_type='drive')\n",
    "    \n",
    "    # calculate edge bearings\n",
    "    Gu = ox.add_edge_bearings(ox.get_undirected(G))\n",
    "    \n",
    "    if weight_by_length:\n",
    "        # weight bearings by length (meters)\n",
    "        city_bearings = []\n",
    "        for u, v, k, d in Gu.edges(keys=True, data=True):\n",
    "            city_bearings.extend([d['bearing']] * int(d['length']))\n",
    "        b = pd.Series(city_bearings)\n",
    "        bearings[place] = pd.concat([b, b.map(reverse_bearing)]).reset_index(drop='True')\n",
    "        \n",
    "    else:\n",
    "        # don't weight bearings, just take one value per street segment\n",
    "        b = pd.Series([d['bearing'] for u, v, k, d in Gu.edges(keys=True, data=True)])\n",
    "        bearings[place] = pd.concat([b, b.map(reverse_bearing)]).reset_index(drop='True')\n",
    "    \n",
    "    print(place, \": \", datetime.now()-start, \"elapsed\")\n",
    "        \n",
    "print(\"total time: \", datetime.now()-start)"
   ]
  },
  {
   "cell_type": "markdown",
   "metadata": {},
   "source": [
    "## Visualize it"
   ]
  },
  {
   "cell_type": "code",
   "execution_count": 6,
   "metadata": {},
   "outputs": [],
   "source": [
    "def count_and_merge(n, bearings):\n",
    "    # make twice as many bins as desired, then merge them in pairs\n",
    "    # prevents bin-edge effects around common values like 0° and 90°\n",
    "    n = n * 2\n",
    "    bins = np.arange(n + 1) * 360 / n\n",
    "    count, _ = np.histogram(bearings, bins=bins)\n",
    "    \n",
    "    # move the last bin to the front, so eg 0.01° and 359.99° will be binned together\n",
    "    count = np.roll(count, 1)\n",
    "    return count[::2] + count[1::2]"
   ]
  },
  {
   "cell_type": "code",
   "execution_count": 7,
   "metadata": {},
   "outputs": [],
   "source": [
    "# function to draw a polar histogram for a set of edge bearings\n",
    "def polar_plot(ax, bearings, n=36, title=''):\n",
    "\n",
    "    bins = np.arange(n + 1) * 360 / n\n",
    "    count = count_and_merge(n, bearings)\n",
    "    _, division = np.histogram(bearings, bins=bins)\n",
    "    frequency = count / count.sum()\n",
    "    division = division[0:-1]\n",
    "    width =  2 * np.pi / n\n",
    "\n",
    "    ax.set_theta_zero_location('N')\n",
    "    ax.set_theta_direction('clockwise')\n",
    "\n",
    "    x = division * np.pi / 180\n",
    "    bars = ax.bar(x, height=frequency, width=width, align='center', bottom=0, zorder=2,\n",
    "                  color='#003366', edgecolor='k', linewidth=0.5, alpha=0.7)\n",
    "    \n",
    "    ax.set_ylim(top=frequency.max())\n",
    "    \n",
    "    title_font = {'family':'Century Gothic', 'size':24, 'weight':'bold'}\n",
    "    xtick_font = {'family':'Century Gothic', 'size':10, 'weight':'bold', 'alpha':1.0, 'zorder':3}\n",
    "    ytick_font = {'family':'Century Gothic', 'size': 9, 'weight':'bold', 'alpha':0.2, 'zorder':3}\n",
    "    \n",
    "    ax.set_title(title.upper(), y=1.05, fontdict=title_font)\n",
    "    \n",
    "    ax.set_yticks(np.linspace(0, max(ax.get_ylim()), 5))\n",
    "    yticklabels = ['{:.2f}'.format(y) for y in ax.get_yticks()]\n",
    "    yticklabels[0] = ''\n",
    "    ax.set_yticklabels(labels=yticklabels, fontdict=ytick_font)\n",
    "    \n",
    "    xticklabels = ['N', '', 'E', '', 'S', '', 'W', '']\n",
    "    ax.set_xticklabels(labels=xticklabels, fontdict=xtick_font)\n",
    "    ax.tick_params(axis='x', which='major', pad=-2)"
   ]
  },
  {
   "cell_type": "code",
   "execution_count": 8,
   "metadata": {},
   "outputs": [],
   "source": [
    "# create figure and axes\n",
    "\n",
    "# leaves blank figures where list is not a multiple of 3. \n",
    "\n",
    "n = len(places)\n",
    "ncols = int(np.ceil(np.sqrt(n)))\n",
    "nrows = int(np.ceil(n / ncols))\n",
    "figsize = (ncols * 5, nrows * 5)\n",
    "fig, axes = plt.subplots(nrows, ncols, figsize=figsize, subplot_kw={'projection':'polar'})\n",
    "\n",
    "# plot each city's polar histogram\n",
    "for ax, place in zip(axes.flat, sorted(places.keys())):\n",
    "    polar_plot(ax, bearings[place].dropna(), title=place)\n",
    "\n",
    "# add super title and save full image\n",
    "suptitle_font = {'family':'Century Gothic', 'fontsize':60, 'fontweight':'normal', 'y':1.07}\n",
    "fig.suptitle('City Street Network Orientation', **suptitle_font)\n",
    "fig.tight_layout()\n",
    "fig.subplots_adjust(hspace=0.35)\n",
    "fig.savefig('images/street-orientations.png', dpi=120, bbox_inches='tight')\n",
    "plt.close()"
   ]
  },
  {
   "cell_type": "code",
   "execution_count": null,
   "metadata": {},
   "outputs": [],
   "source": []
  }
 ],
 "metadata": {
  "kernelspec": {
   "display_name": "Python 3",
   "language": "python",
   "name": "python3"
  },
  "language_info": {
   "codemirror_mode": {
    "name": "ipython",
    "version": 3
   },
   "file_extension": ".py",
   "mimetype": "text/x-python",
   "name": "python",
   "nbconvert_exporter": "python",
   "pygments_lexer": "ipython3",
   "version": "3.7.3"
  }
 },
 "nbformat": 4,
 "nbformat_minor": 2
}
